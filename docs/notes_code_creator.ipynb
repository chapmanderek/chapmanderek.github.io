{
 "cells": [
  {
   "cell_type": "markdown",
   "metadata": {},
   "source": []
  },
  {
   "cell_type": "code",
   "execution_count": 1,
   "metadata": {},
   "outputs": [],
   "source": [
    "notes = ['c','d','e','f','g','A','Bb','B','C']"
   ]
  },
  {
   "cell_type": "code",
   "execution_count": 2,
   "metadata": {},
   "outputs": [
    {
     "name": "stdout",
     "output_type": "stream",
     "text": [
      "<input type=\"checkbox\" id=\"c\" name=\"c\">\n",
      "<label for=\"c\">c</label>\n",
      "<br>\n",
      "<input type=\"checkbox\" id=\"d\" name=\"d\">\n",
      "<label for=\"d\">d</label>\n",
      "<br>\n",
      "<input type=\"checkbox\" id=\"e\" name=\"e\">\n",
      "<label for=\"e\">e</label>\n",
      "<br>\n",
      "<input type=\"checkbox\" id=\"f\" name=\"f\">\n",
      "<label for=\"f\">f</label>\n",
      "<br>\n",
      "<input type=\"checkbox\" id=\"g\" name=\"g\">\n",
      "<label for=\"g\">g</label>\n",
      "<br>\n",
      "<input type=\"checkbox\" id=\"A\" name=\"A\">\n",
      "<label for=\"A\">A</label>\n",
      "<br>\n",
      "<input type=\"checkbox\" id=\"Bb\" name=\"Bb\">\n",
      "<label for=\"Bb\">Bb</label>\n",
      "<br>\n",
      "<input type=\"checkbox\" id=\"B\" name=\"B\">\n",
      "<label for=\"B\">B</label>\n",
      "<br>\n",
      "<input type=\"checkbox\" id=\"C\" name=\"C\">\n",
      "<label for=\"C\">C</label>\n",
      "<br>\n"
     ]
    }
   ],
   "source": [
    "for note in notes:\n",
    "    print(f'<input type=\"checkbox\" id=\"{note}\" name=\"{note}\">')\n",
    "    print(f'<label for=\"{note}\">{note}</label>')\n",
    "    print('<br>')"
   ]
  },
  {
   "cell_type": "code",
   "execution_count": null,
   "metadata": {},
   "outputs": [],
   "source": []
  },
  {
   "cell_type": "code",
   "execution_count": null,
   "metadata": {},
   "outputs": [],
   "source": []
  }
 ],
 "metadata": {
  "interpreter": {
   "hash": "33ce008c613a1adc55aa1d2de7f4d2d1d388698ff7f65f786a51acf837846344"
  },
  "kernelspec": {
   "display_name": "Python 3.7.10 64-bit ('pynb38': conda)",
   "name": "python3"
  },
  "language_info": {
   "codemirror_mode": {
    "name": "ipython",
    "version": 3
   },
   "file_extension": ".py",
   "mimetype": "text/x-python",
   "name": "python",
   "nbconvert_exporter": "python",
   "pygments_lexer": "ipython3",
   "version": "3.7.10"
  },
  "orig_nbformat": 4
 },
 "nbformat": 4,
 "nbformat_minor": 2
}
