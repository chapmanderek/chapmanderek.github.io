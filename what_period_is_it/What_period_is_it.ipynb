{
 "cells": [
  {
   "cell_type": "markdown",
   "id": "e762ee4f",
   "metadata": {},
   "source": [
    "## Add passing periods to CSV"
   ]
  },
  {
   "cell_type": "code",
   "execution_count": 9,
   "id": "7dcfffd3",
   "metadata": {},
   "outputs": [],
   "source": [
    "with open(\"bell_schedule.csv\") as f:\n",
    "    data = f.readlines()\n",
    "    \n",
    "    data = [line.strip() for line in data]\n",
    "    header = data[0]\n",
    "    data = data[1:]"
   ]
  },
  {
   "cell_type": "code",
   "execution_count": 31,
   "id": "0603d36e",
   "metadata": {},
   "outputs": [],
   "source": [
    "new_data = []\n",
    "for idx, line in enumerate(data):\n",
    "    new_data.append(line)\n",
    "    split_line = line.split(\",\")\n",
    "    \n",
    "    #no need to add a passing period after schools out\n",
    "    if split_line[2] != \"Dismissal\":\n",
    "        prep_line = [split_line[0], split_line[1], \"Passing\", split_line[-1]]\n",
    "        if (idx+1) <= len(data):\n",
    "            split_next_line = data[idx+1].split(\",\")\n",
    "            prep_line.append(split_next_line[3])\n",
    "        #recess and lunch dont really have a passing period\n",
    "        if prep_line[3] == prep_line[4] : continue\n",
    "        else:\n",
    "            prep_line = \",\".join(prep_line)\n",
    "            new_data.append(prep_line)"
   ]
  },
  {
   "cell_type": "code",
   "execution_count": 38,
   "id": "81fe3295",
   "metadata": {
    "scrolled": false
   },
   "outputs": [],
   "source": [
    "# for each in new_data:\n",
    "#     print(each)"
   ]
  },
  {
   "cell_type": "code",
   "execution_count": 37,
   "id": "618900de",
   "metadata": {},
   "outputs": [],
   "source": [
    "with open('bell_schedule_with_passing.csv', 'w') as r:\n",
    "    r.write(header + \"\\n\")\n",
    "    for line in new_data:\n",
    "        r.write(line + \"\\n\")"
   ]
  }
 ],
 "metadata": {
  "kernelspec": {
   "display_name": "Python 3",
   "language": "python",
   "name": "python3"
  },
  "language_info": {
   "codemirror_mode": {
    "name": "ipython",
    "version": 3
   },
   "file_extension": ".py",
   "mimetype": "text/x-python",
   "name": "python",
   "nbconvert_exporter": "python",
   "pygments_lexer": "ipython3",
   "version": "3.7.10"
  },
  "varInspector": {
   "cols": {
    "lenName": 16,
    "lenType": 16,
    "lenVar": 40
   },
   "kernels_config": {
    "python": {
     "delete_cmd_postfix": "",
     "delete_cmd_prefix": "del ",
     "library": "var_list.py",
     "varRefreshCmd": "print(var_dic_list())"
    },
    "r": {
     "delete_cmd_postfix": ") ",
     "delete_cmd_prefix": "rm(",
     "library": "var_list.r",
     "varRefreshCmd": "cat(var_dic_list()) "
    }
   },
   "types_to_exclude": [
    "module",
    "function",
    "builtin_function_or_method",
    "instance",
    "_Feature"
   ],
   "window_display": false
  }
 },
 "nbformat": 4,
 "nbformat_minor": 5
}
