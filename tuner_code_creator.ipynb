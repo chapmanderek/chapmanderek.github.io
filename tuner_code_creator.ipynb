{
 "cells": [
  {
   "cell_type": "code",
   "execution_count": null,
   "metadata": {},
   "outputs": [],
   "source": [
    "notes = ['c','d','e','f','g','A','Bb','B','C']"
   ]
  },
  {
   "cell_type": "code",
   "execution_count": 2,
   "metadata": {},
   "outputs": [
    {
     "name": "stdout",
     "output_type": "stream",
     "text": [
      "<input type=\"checkbox\" id=\"A\" name=\"A\">\n",
      "<label for=\"A\">A</label>\n",
      "<br>\n",
      "<input type=\"checkbox\" id=\"b\" name=\"b\">\n",
      "<label for=\"b\">b</label>\n",
      "<br>\n",
      "<input type=\"checkbox\" id=\"c\" name=\"c\">\n",
      "<label for=\"c\">c</label>\n",
      "<br>\n",
      "<input type=\"checkbox\" id=\"d\" name=\"d\">\n",
      "<label for=\"d\">d</label>\n",
      "<br>\n",
      "<input type=\"checkbox\" id=\"e\" name=\"e\">\n",
      "<label for=\"e\">e</label>\n",
      "<br>\n",
      "<input type=\"checkbox\" id=\"f\" name=\"f\">\n",
      "<label for=\"f\">f</label>\n",
      "<br>\n",
      "<input type=\"checkbox\" id=\"B\" name=\"B\">\n",
      "<label for=\"B\">B</label>\n",
      "<br>\n",
      "<input type=\"checkbox\" id=\"C\" name=\"C\">\n",
      "<label for=\"C\">C</label>\n",
      "<br>\n",
      "<input type=\"checkbox\" id=\"g\" name=\"g\">\n",
      "<label for=\"g\">g</label>\n",
      "<br>\n",
      "<input type=\"checkbox\" id=\"D\" name=\"D\">\n",
      "<label for=\"D\">D</label>\n",
      "<br>\n"
     ]
    }
   ],
   "source": [
    "for note in notes:\n",
    "    print(f'<input type=\"checkbox\" id=\"{note}\" name=\"{note}\">')\n",
    "    print(f'<label for=\"{note}\">{note}</label>')\n",
    "    print('<br>')"
   ]
  },
  {
   "cell_type": "code",
   "execution_count": null,
   "metadata": {},
   "outputs": [],
   "source": []
  },
  {
   "cell_type": "code",
   "execution_count": null,
   "metadata": {},
   "outputs": [],
   "source": []
  }
 ],
 "metadata": {
  "interpreter": {
   "hash": "31f2aee4e71d21fbe5cf8b01ff0e069b9275f58929596ceb00d14d90e3e16cd6"
  },
  "kernelspec": {
   "display_name": "Python 3.8.2 64-bit",
   "name": "python3"
  },
  "language_info": {
   "codemirror_mode": {
    "name": "ipython",
    "version": 3
   },
   "file_extension": ".py",
   "mimetype": "text/x-python",
   "name": "python",
   "nbconvert_exporter": "python",
   "pygments_lexer": "ipython3",
   "version": "3.8.2"
  },
  "orig_nbformat": 4
 },
 "nbformat": 4,
 "nbformat_minor": 2
}
